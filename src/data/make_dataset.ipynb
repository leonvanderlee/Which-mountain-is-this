{
 "cells": [
  {
   "cell_type": "markdown",
   "source": [
    "# Import"
   ],
   "metadata": {
    "collapsed": false
   }
  },
  {
   "cell_type": "code",
   "execution_count": 1,
   "outputs": [],
   "source": [
    "import pandas as pd\n",
    "\n",
    "from tqdm import tqdm\n",
    "\n",
    "import requests\n",
    "\n",
    "from bs4 import BeautifulSoup\n",
    "\n",
    "from simple_image_download import simple_image_download as simp"
   ],
   "metadata": {
    "collapsed": false,
    "pycharm": {
     "name": "#%%\n"
    }
   }
  },
  {
   "cell_type": "markdown",
   "source": [
    "# Get Name"
   ],
   "metadata": {
    "collapsed": false
   }
  },
  {
   "cell_type": "code",
   "execution_count": 2,
   "outputs": [
    {
     "name": "stderr",
     "output_type": "stream",
     "text": [
      "100%|██████████| 8/8 [00:04<00:00,  1.64it/s]\n"
     ]
    }
   ],
   "source": [
    "lst = []\n",
    "\n",
    "for table in tqdm(range(0, 8)):\n",
    "    url = 'https://en.wikipedia.org/wiki/List_of_mountains_by_elevation'\n",
    "\n",
    "    response = requests.get(url).content\n",
    "    soup = BeautifulSoup(response, 'lxml')\n",
    "\n",
    "    table = soup.find_all('table')[table]\n",
    "\n",
    "    try:\n",
    "        for row in table.find_all('tr')[1:]:\n",
    "            name = row.find_all('td')[0].text\n",
    "\n",
    "            lst.append(name)\n",
    "\n",
    "    except AttributeError:\n",
    "        name = None\n",
    "\n",
    "        lst.append(name)"
   ],
   "metadata": {
    "collapsed": false,
    "pycharm": {
     "name": "#%%\n"
    }
   }
  },
  {
   "cell_type": "code",
   "execution_count": 3,
   "outputs": [
    {
     "name": "stdout",
     "output_type": "stream",
     "text": [
      "['Mount Everest', 'K2', 'Kangchenjunga', 'Lhotse', 'Makalu', 'Cho Oyu', 'Dhaulagiri', 'Manaslu', 'Nanga Parbat', 'Annapurna']\n"
     ]
    }
   ],
   "source": [
    "print(lst[:10])"
   ],
   "metadata": {
    "collapsed": false,
    "pycharm": {
     "name": "#%%\n"
    }
   }
  },
  {
   "cell_type": "code",
   "execution_count": 4,
   "outputs": [
    {
     "data": {
      "text/plain": "                      Name\n0            Mount Everest\n1                       K2\n2            Kangchenjunga\n3                   Lhotse\n4                   Makalu\n...                    ...\n1456  Buachaille Etive Mor\n1457             Munboksan\n1458                 Kékes\n1459         Mount Belumut\n1460      Old Rag Mountain\n\n[1461 rows x 1 columns]",
      "text/html": "<div>\n<style scoped>\n    .dataframe tbody tr th:only-of-type {\n        vertical-align: middle;\n    }\n\n    .dataframe tbody tr th {\n        vertical-align: top;\n    }\n\n    .dataframe thead th {\n        text-align: right;\n    }\n</style>\n<table border=\"1\" class=\"dataframe\">\n  <thead>\n    <tr style=\"text-align: right;\">\n      <th></th>\n      <th>Name</th>\n    </tr>\n  </thead>\n  <tbody>\n    <tr>\n      <th>0</th>\n      <td>Mount Everest</td>\n    </tr>\n    <tr>\n      <th>1</th>\n      <td>K2</td>\n    </tr>\n    <tr>\n      <th>2</th>\n      <td>Kangchenjunga</td>\n    </tr>\n    <tr>\n      <th>3</th>\n      <td>Lhotse</td>\n    </tr>\n    <tr>\n      <th>4</th>\n      <td>Makalu</td>\n    </tr>\n    <tr>\n      <th>...</th>\n      <td>...</td>\n    </tr>\n    <tr>\n      <th>1456</th>\n      <td>Buachaille Etive Mor</td>\n    </tr>\n    <tr>\n      <th>1457</th>\n      <td>Munboksan</td>\n    </tr>\n    <tr>\n      <th>1458</th>\n      <td>Kékes</td>\n    </tr>\n    <tr>\n      <th>1459</th>\n      <td>Mount Belumut</td>\n    </tr>\n    <tr>\n      <th>1460</th>\n      <td>Old Rag Mountain</td>\n    </tr>\n  </tbody>\n</table>\n<p>1461 rows × 1 columns</p>\n</div>"
     },
     "execution_count": 4,
     "metadata": {},
     "output_type": "execute_result"
    }
   ],
   "source": [
    "df = pd.DataFrame(lst, columns=['Name'])\n",
    "\n",
    "df"
   ],
   "metadata": {
    "collapsed": false,
    "pycharm": {
     "name": "#%%\n"
    }
   }
  },
  {
   "cell_type": "code",
   "execution_count": 5,
   "outputs": [],
   "source": [
    "df = df['Name'] + ' Mountain Flickr'"
   ],
   "metadata": {
    "collapsed": false,
    "pycharm": {
     "name": "#%%\n"
    }
   }
  },
  {
   "cell_type": "code",
   "execution_count": 6,
   "outputs": [
    {
     "data": {
      "text/plain": "0    Mount Everest Mountain Flickr\n1               K2 Mountain Flickr\n2    Kangchenjunga Mountain Flickr\n3           Lhotse Mountain Flickr\n4           Makalu Mountain Flickr\n5          Cho Oyu Mountain Flickr\n6       Dhaulagiri Mountain Flickr\n7          Manaslu Mountain Flickr\n8     Nanga Parbat Mountain Flickr\n9        Annapurna Mountain Flickr\nName: Name, dtype: object"
     },
     "execution_count": 6,
     "metadata": {},
     "output_type": "execute_result"
    }
   ],
   "source": [
    "df = df[:10]\n",
    "\n",
    "df"
   ],
   "metadata": {
    "collapsed": false,
    "pycharm": {
     "name": "#%%\n"
    }
   }
  },
  {
   "cell_type": "code",
   "execution_count": 7,
   "outputs": [
    {
     "data": {
      "text/plain": "['Mount Everest Mountain Flickr',\n 'K2 Mountain Flickr',\n 'Kangchenjunga Mountain Flickr',\n 'Lhotse Mountain Flickr',\n 'Makalu Mountain Flickr',\n 'Cho Oyu Mountain Flickr',\n 'Dhaulagiri Mountain Flickr',\n 'Manaslu Mountain Flickr',\n 'Nanga Parbat Mountain Flickr',\n 'Annapurna Mountain Flickr']"
     },
     "execution_count": 7,
     "metadata": {},
     "output_type": "execute_result"
    }
   ],
   "source": [
    "lst = df.tolist()\n",
    "\n",
    "lst"
   ],
   "metadata": {
    "collapsed": false,
    "pycharm": {
     "name": "#%%\n"
    }
   }
  },
  {
   "cell_type": "markdown",
   "source": [
    "# Get Images"
   ],
   "metadata": {
    "collapsed": false
   }
  },
  {
   "cell_type": "code",
   "execution_count": 8,
   "outputs": [],
   "source": [
    "amount = 10000"
   ],
   "metadata": {
    "collapsed": false,
    "pycharm": {
     "name": "#%%\n"
    }
   }
  },
  {
   "cell_type": "code",
   "execution_count": 9,
   "outputs": [
    {
     "name": "stderr",
     "output_type": "stream",
     "text": [
      "[========================================================================] 100%\r\n",
      "[========================================================================] 100%\r\n",
      "[========================================================================] 100%\r\n",
      "[========================================================================] 100%\r\n",
      "[========================================================================] 100%\r\n",
      "[========================================================================] 100%\r\n",
      "[========================================================================] 100%\r\n",
      "[========================================================================] 100%\r\n",
      "[========================================================================] 100%\r\n",
      "[========================================================================] 100%\r\n"
     ]
    }
   ],
   "source": [
    "response = simp.simple_image_download\n",
    "\n",
    "for x in lst:\n",
    "    response().download(x, amount, {'.jpg', '.jpeg', '.png'})"
   ],
   "metadata": {
    "collapsed": false,
    "pycharm": {
     "name": "#%%\n"
    }
   }
  }
 ],
 "metadata": {
  "kernelspec": {
   "name": "python3",
   "language": "python",
   "display_name": "Python 3"
  },
  "language_info": {
   "codemirror_mode": {
    "name": "ipython",
    "version": 2
   },
   "file_extension": ".py",
   "mimetype": "text/x-python",
   "name": "python",
   "nbconvert_exporter": "python",
   "pygments_lexer": "ipython2",
   "version": "2.7.6"
  }
 },
 "nbformat": 4,
 "nbformat_minor": 0
}